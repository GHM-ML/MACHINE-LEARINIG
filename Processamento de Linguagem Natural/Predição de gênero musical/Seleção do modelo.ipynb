{
 "cells": [
  {
   "cell_type": "markdown",
   "id": "f7aaf6ac",
   "metadata": {},
   "source": [
    "# Seleção do modelo de classificação\n",
    "Com a variedade de modelos de classificação fornecidos pelo Scikit-learn, vamos testar uma variedade deles para avaliar qual o melhor.\n",
    "## Importar ferramentas necessárias"
   ]
  },
  {
   "cell_type": "code",
   "execution_count": 1,
   "id": "6c158c6f",
   "metadata": {
    "executionInfo": {
     "elapsed": 2,
     "status": "ok",
     "timestamp": 1682657018372,
     "user": {
      "displayName": "Gabriel H. Martins",
      "userId": "11601681155025502925"
     },
     "user_tz": 180
    },
    "id": "6c158c6f"
   },
   "outputs": [],
   "source": [
    "import numpy as np\n",
    "import pandas as pd\n",
    "import matplotlib.pyplot as plt\n",
    "from sklearn.model_selection import StratifiedKFold\n",
    "from sklearn.model_selection import cross_val_score\n",
    "from sklearn.model_selection import RandomizedSearchCV, GridSearchCV\n",
    "from sklearn.model_selection import train_test_split\n",
    "from sklearn.neighbors import KNeighborsClassifier\n",
    "from sklearn.svm import SVC\n",
    "from sklearn.ensemble import RandomForestClassifier\n",
    "from sklearn.ensemble import GradientBoostingClassifier\n",
    "from sklearn.linear_model import LogisticRegression\n",
    "from sklearn.naive_bayes import MultinomialNB\n",
    "from sklearn.naive_bayes import GaussianNB\n",
    "from sklearn.metrics import roc_auc_score\n",
    "from sklearn.metrics import RocCurveDisplay\n",
    "from sklearn.metrics import classification_report\n",
    "from sklearn.metrics import confusion_matrix\n",
    "from sklearn.metrics import accuracy_score\n",
    "from sklearn.metrics import ConfusionMatrixDisplay"
   ]
  },
  {
   "cell_type": "code",
   "execution_count": 2,
   "id": "a33c1fbc",
   "metadata": {
    "executionInfo": {
     "elapsed": 7204,
     "status": "ok",
     "timestamp": 1682655059654,
     "user": {
      "displayName": "Gabriel H. Martins",
      "userId": "11601681155025502925"
     },
     "user_tz": 180
    },
    "id": "a33c1fbc"
   },
   "outputs": [],
   "source": [
    "# Carregar datasets\n",
    "X_train = pd.read_csv(\"C:/Users/Protege Auto/Documents/X_train.csv\")\n",
    "y_train = np.ravel(pd.read_csv(\"C:/Users/Protege Auto/Documents/y_train.csv\"))"
   ]
  },
  {
   "cell_type": "markdown",
   "id": "2d4684eb",
   "metadata": {},
   "source": [
    "## Otimização de hiperparâmetros\n",
    "\n",
    "A seleção de modelos se dará na busca de hiperparâmetros ótimos nos diferentes modelos, usando a busca randomizada ou exaustiva.  \n",
    "Devido ao número pequeno de amostras, a seleção fará uso de validação cruzada.\n",
    "\n",
    "Os modelos testados são:\n",
    "- Regressão Logística\n",
    "- Florestas Randômicas\n",
    "- K-Vizinhos Mais Próximos\n",
    "- Vetor de Suporte\n",
    "- Naive Bayes Gaussiano\n",
    "- Naive Bayes Multinomial\n",
    "- Gradient Boosting\n",
    "\n",
    "Após, será selecionanda a melhor combinação obtida desses hiperparâmetros no melhor classificador."
   ]
  },
  {
   "cell_type": "code",
   "execution_count": 3,
   "id": "7149c619",
   "metadata": {
    "colab": {
     "base_uri": "https://localhost:8080/"
    },
    "executionInfo": {
     "elapsed": 358152,
     "status": "ok",
     "timestamp": 1682655502229,
     "user": {
      "displayName": "Gabriel H. Martins",
      "userId": "11601681155025502925"
     },
     "user_tz": 180
    },
    "id": "7149c619",
    "outputId": "94614a6b-d3f4-48a6-d581-29c6c5e5d8d2",
    "scrolled": true
   },
   "outputs": [
    {
     "name": "stdout",
     "output_type": "stream",
     "text": [
      "Best: 0.813219 using {'solver': 'liblinear', 'penalty': 'l2', 'C': 1.0}\n",
      "mean: 0.789447 with std: (0.013898) with params: {'solver': 'liblinear', 'penalty': 'l2', 'C': 0.01}\n",
      "mean: 0.780058 with std: (0.009943) with params: {'solver': 'lbfgs', 'penalty': 'l2', 'C': 100}\n",
      "mean: 0.813219 with std: (0.012571) with params: {'solver': 'liblinear', 'penalty': 'l2', 'C': 1.0}\n",
      "mean: 0.801961 with std: (0.010388) with params: {'solver': 'liblinear', 'penalty': 'l2', 'C': 10}\n",
      "mean: 0.801965 with std: (0.010390) with params: {'solver': 'newton-cg', 'penalty': 'l2', 'C': 10}\n",
      "mean: 0.799492 with std: (0.013246) with params: {'solver': 'newton-cg', 'penalty': 'l2', 'C': 0.1}\n",
      "mean: 0.779827 with std: (0.009802) with params: {'solver': 'newton-cg', 'penalty': 'l2', 'C': 100}\n",
      "mean: 0.789274 with std: (0.013946) with params: {'solver': 'lbfgs', 'penalty': 'l2', 'C': 0.01}\n",
      "mean: 0.789274 with std: (0.013946) with params: {'solver': 'newton-cg', 'penalty': 'l2', 'C': 0.01}\n",
      "mean: 0.801972 with std: (0.010390) with params: {'solver': 'lbfgs', 'penalty': 'l2', 'C': 10}\n"
     ]
    }
   ],
   "source": [
    "grid = {\n",
    "'solver': ['newton-cg', 'lbfgs', 'liblinear'],\n",
    "'penalty': ['l2'],\n",
    "'C': [100, 10, 1.0, 0.1, 0.01]\n",
    "}\n",
    "\n",
    "cv = StratifiedKFold(n_splits=3, shuffle = True, random_state=1)\n",
    "model = LogisticRegression()\n",
    "\n",
    "grid_search = RandomizedSearchCV(estimator=model, param_distributions=grid, n_jobs=-1, cv=cv, scoring= 'roc_auc', error_score=0)\n",
    "grid_result = grid_search.fit(X_train, y_train)\n",
    "\n",
    "# summarize results\n",
    "print(\"Best: %f using %s\" % (grid_result.best_score_, grid_result.best_params_))\n",
    "means = grid_result.cv_results_['mean_test_score']\n",
    "stds = grid_result.cv_results_['std_test_score']\n",
    "params = grid_result.cv_results_['params']\n",
    "for mean, stdev, param in zip(means, stds, params):\n",
    "    print(\"mean: %f with std: (%f) with params: %r\" % (mean, stdev, param))"
   ]
  },
  {
   "cell_type": "code",
   "execution_count": 4,
   "id": "K_3ox58nFqS0",
   "metadata": {
    "colab": {
     "base_uri": "https://localhost:8080/"
    },
    "executionInfo": {
     "elapsed": 1149064,
     "status": "ok",
     "timestamp": 1682656997469,
     "user": {
      "displayName": "Gabriel H. Martins",
      "userId": "11601681155025502925"
     },
     "user_tz": 180
    },
    "id": "K_3ox58nFqS0",
    "outputId": "aa68249c-0f0f-41a5-f71c-0d5439b350c3",
    "scrolled": true
   },
   "outputs": [
    {
     "name": "stdout",
     "output_type": "stream",
     "text": [
      "Best: 0.826107 using {'max_features': 'log2', 'n_estimators': 1000}\n",
      "mean: 0.734157 with std: (0.003505) with params: {'max_features': 'sqrt', 'n_estimators': 10}\n",
      "mean: 0.806546 with std: (0.019687) with params: {'max_features': 'sqrt', 'n_estimators': 100}\n",
      "mean: 0.819509 with std: (0.009602) with params: {'max_features': 'sqrt', 'n_estimators': 1000}\n",
      "mean: 0.690415 with std: (0.007101) with params: {'max_features': 'log2', 'n_estimators': 10}\n",
      "mean: 0.802342 with std: (0.010296) with params: {'max_features': 'log2', 'n_estimators': 100}\n",
      "mean: 0.826107 with std: (0.011732) with params: {'max_features': 'log2', 'n_estimators': 1000}\n"
     ]
    }
   ],
   "source": [
    "random_forest_grid = {\n",
    "'n_estimators': [10, 100, 1000],\n",
    "'max_features': ['sqrt', 'log2']\n",
    "}\n",
    "\n",
    "random_forest_model = RandomForestClassifier()\n",
    "grid_search = GridSearchCV(estimator=random_forest_model, param_grid=random_forest_grid, n_jobs=-1, cv=cv,\n",
    "                           scoring='roc_auc', error_score=0)\n",
    "grid_result = grid_search.fit(X_train, y_train)\n",
    "\n",
    "# summarize results\n",
    "print(\"Best: %f using %s\" % (grid_result.best_score_, grid_result.best_params_))\n",
    "means = grid_result.cv_results_['mean_test_score']\n",
    "stds = grid_result.cv_results_['std_test_score']\n",
    "params = grid_result.cv_results_['params']\n",
    "for mean, stdev, param in zip(means, stds, params):\n",
    "    print(\"mean: %f with std: (%f) with params: %r\" % (mean, stdev, param))"
   ]
  },
  {
   "cell_type": "code",
   "execution_count": 5,
   "id": "_tupWJHmHwcq",
   "metadata": {
    "colab": {
     "base_uri": "https://localhost:8080/"
    },
    "executionInfo": {
     "elapsed": 1279852,
     "status": "ok",
     "timestamp": 1682672227430,
     "user": {
      "displayName": "Gabriel H. Martins",
      "userId": "11601681155025502925"
     },
     "user_tz": 180
    },
    "id": "_tupWJHmHwcq",
    "outputId": "998b5664-07f6-4a2c-fd09-c866e3c0ebb4"
   },
   "outputs": [
    {
     "name": "stdout",
     "output_type": "stream",
     "text": [
      "Best: 0.718465 using {'weights': 'distance', 'n_neighbors': 15, 'metric': 'euclidean'}\n",
      "mean: 0.709908 with std: (0.006825) with params: {'weights': 'uniform', 'n_neighbors': 13, 'metric': 'minkowski'}\n",
      "mean: 0.530952 with std: (0.003341) with params: {'weights': 'uniform', 'n_neighbors': 11, 'metric': 'manhattan'}\n",
      "mean: 0.718465 with std: (0.004874) with params: {'weights': 'distance', 'n_neighbors': 15, 'metric': 'euclidean'}\n",
      "mean: 0.709908 with std: (0.006825) with params: {'weights': 'uniform', 'n_neighbors': 13, 'metric': 'euclidean'}\n",
      "mean: 0.712674 with std: (0.005125) with params: {'weights': 'distance', 'n_neighbors': 13, 'metric': 'minkowski'}\n",
      "mean: 0.715581 with std: (0.005445) with params: {'weights': 'uniform', 'n_neighbors': 15, 'metric': 'minkowski'}\n",
      "mean: 0.699501 with std: (0.004838) with params: {'weights': 'uniform', 'n_neighbors': 11, 'metric': 'minkowski'}\n",
      "mean: 0.718465 with std: (0.004874) with params: {'weights': 'distance', 'n_neighbors': 15, 'metric': 'minkowski'}\n",
      "mean: 0.702828 with std: (0.003878) with params: {'weights': 'distance', 'n_neighbors': 11, 'metric': 'euclidean'}\n",
      "mean: 0.518481 with std: (0.005302) with params: {'weights': 'uniform', 'n_neighbors': 15, 'metric': 'manhattan'}\n"
     ]
    }
   ],
   "source": [
    "knn_grid = {\n",
    "'n_neighbors': range(11, 16, 2),\n",
    "'weights': ['uniform', 'distance'],\n",
    "'metric': ['euclidean', 'manhattan', 'minkowski']\n",
    "}\n",
    "\n",
    "knn_model = KNeighborsClassifier()\n",
    "grid_search = RandomizedSearchCV(estimator=knn_model, param_distributions=knn_grid, n_jobs=-1, cv=cv,\n",
    "                                 scoring='roc_auc', error_score=0)\n",
    "grid_result = grid_search.fit(X_train, y_train)\n",
    "\n",
    "# summarize results\n",
    "print(\"Best: %f using %s\" % (grid_result.best_score_, grid_result.best_params_))\n",
    "means = grid_result.cv_results_['mean_test_score']\n",
    "stds = grid_result.cv_results_['std_test_score']\n",
    "params = grid_result.cv_results_['params']\n",
    "for mean, stdev, param in zip(means, stds, params):\n",
    "    print(\"mean: %f with std: (%f) with params: %r\" % (mean, stdev, param))"
   ]
  },
  {
   "cell_type": "code",
   "execution_count": 6,
   "id": "UzWbyt9RIKUB",
   "metadata": {
    "id": "UzWbyt9RIKUB"
   },
   "outputs": [
    {
     "name": "stdout",
     "output_type": "stream",
     "text": [
      "Best: 0.806044 using {'kernel': 'rbf', 'gamma': 'scale', 'C': 1.0}\n",
      "mean: 0.789494 with std: (0.013978) with params: {'kernel': 'sigmoid', 'gamma': 'scale', 'C': 0.01}\n",
      "mean: 0.723685 with std: (0.007549) with params: {'kernel': 'poly', 'gamma': 'scale', 'C': 10}\n",
      "mean: 0.801711 with std: (0.011000) with params: {'kernel': 'sigmoid', 'gamma': 'scale', 'C': 1.0}\n",
      "mean: 0.721518 with std: (0.006885) with params: {'kernel': 'poly', 'gamma': 'scale', 'C': 1.0}\n",
      "mean: 0.715741 with std: (0.007523) with params: {'kernel': 'poly', 'gamma': 'scale', 'C': 0.01}\n",
      "mean: 0.797193 with std: (0.013064) with params: {'kernel': 'sigmoid', 'gamma': 'scale', 'C': 0.1}\n",
      "mean: 0.785993 with std: (0.013481) with params: {'kernel': 'rbf', 'gamma': 'scale', 'C': 0.01}\n",
      "mean: 0.806044 with std: (0.011268) with params: {'kernel': 'rbf', 'gamma': 'scale', 'C': 1.0}\n",
      "mean: 0.787027 with std: (0.012585) with params: {'kernel': 'rbf', 'gamma': 'scale', 'C': 0.1}\n",
      "mean: 0.804742 with std: (0.011075) with params: {'kernel': 'rbf', 'gamma': 'scale', 'C': 10}\n"
     ]
    }
   ],
   "source": [
    "svc_grid = {\n",
    "'kernel': ['poly', 'rbf', 'sigmoid'],\n",
    "'C': [50, 10, 1.0, 0.1, 0.01],\n",
    "'gamma': ['scale']\n",
    "}\n",
    "\n",
    "svc_model = SVC()\n",
    "grid_search = RandomizedSearchCV(estimator=svc_model, param_distributions=svc_grid, n_jobs=-1, cv=cv,\n",
    "                                 scoring='roc_auc', error_score=0)\n",
    "grid_result = grid_search.fit(X_train, y_train)\n",
    "\n",
    "# summarize results\n",
    "print(\"Best: %f using %s\" % (grid_result.best_score_, grid_result.best_params_))\n",
    "means = grid_result.cv_results_['mean_test_score']\n",
    "stds = grid_result.cv_results_['std_test_score']\n",
    "params = grid_result.cv_results_['params']\n",
    "for mean, stdev, param in zip(means, stds, params):\n",
    "    print(\"mean: %f with std: (%f) with params: %r\" % (mean, stdev, param))"
   ]
  },
  {
   "cell_type": "code",
   "execution_count": 7,
   "id": "-OPT3sHlJLZ5",
   "metadata": {
    "id": "-OPT3sHlJLZ5"
   },
   "outputs": [
    {
     "name": "stderr",
     "output_type": "stream",
     "text": [
      "C:\\Users\\Protege Auto\\anaconda3\\lib\\site-packages\\sklearn\\model_selection\\_search.py:305: UserWarning: The total space of parameters 3 is smaller than n_iter=10. Running 3 iterations. For exhaustive searches, use GridSearchCV.\n",
      "  warnings.warn(\n"
     ]
    },
    {
     "name": "stdout",
     "output_type": "stream",
     "text": [
      "Best: 0.657923 using {'var_smoothing': 1e-08}\n",
      "mean: 0.657369 with std: (0.006804) with params: {'var_smoothing': 1e-09}\n",
      "mean: 0.657923 with std: (0.006902) with params: {'var_smoothing': 1e-08}\n",
      "mean: 0.655149 with std: (0.006754) with params: {'var_smoothing': 1e-10}\n"
     ]
    }
   ],
   "source": [
    "gbn_grid = {\n",
    "'var_smoothing': [1e-09,1e-08,1e-010] \n",
    "}\n",
    "\n",
    "gbn_model = GaussianNB()\n",
    "grid_search = RandomizedSearchCV(estimator=gbn_model, param_distributions=gbn_grid, n_jobs=-1, cv=cv,\n",
    "                                 scoring='roc_auc', error_score=0)\n",
    "grid_result = grid_search.fit(X_train, y_train)\n",
    "\n",
    "# summarize results\n",
    "print(\"Best: %f using %s\" % (grid_result.best_score_, grid_result.best_params_))\n",
    "means = grid_result.cv_results_['mean_test_score']\n",
    "stds = grid_result.cv_results_['std_test_score']\n",
    "params = grid_result.cv_results_['params']\n",
    "for mean, stdev, param in zip(means, stds, params):\n",
    "    print(\"mean: %f with std: (%f) with params: %r\" % (mean, stdev, param))"
   ]
  },
  {
   "cell_type": "code",
   "execution_count": 8,
   "id": "3l5c61QrmEeC",
   "metadata": {
    "id": "3l5c61QrmEeC",
    "scrolled": false
   },
   "outputs": [
    {
     "name": "stdout",
     "output_type": "stream",
     "text": [
      "Best: 0.835278 using {'alpha': 1}\n",
      "mean: 0.817467 with std: (0.007485) with params: {'alpha': 0.001}\n",
      "mean: 0.826943 with std: (0.007792) with params: {'alpha': 0.01}\n",
      "mean: 0.834803 with std: (0.008191) with params: {'alpha': 0.1}\n",
      "mean: 0.835278 with std: (0.009875) with params: {'alpha': 1}\n"
     ]
    }
   ],
   "source": [
    "mnb_grid = {'alpha':[0.001, 0.01, 0.1, 1]}\n",
    "\n",
    "mnb_model = MultinomialNB()\n",
    "grid_search = GridSearchCV(estimator=mnb_model, param_grid=mnb_grid, n_jobs=-1, cv=cv, scoring='roc_auc', error_score=0)\n",
    "grid_result = grid_search.fit(X_train, y_train)\n",
    "\n",
    "# summarize results\n",
    "print(\"Best: %f using %s\" % (grid_result.best_score_, grid_result.best_params_))\n",
    "means = grid_result.cv_results_['mean_test_score']\n",
    "stds = grid_result.cv_results_['std_test_score']\n",
    "params = grid_result.cv_results_['params']\n",
    "for mean, stdev, param in zip(means, stds, params):\n",
    "    print(\"mean: %f with std: (%f) with params: %r\" % (mean, stdev, param))"
   ]
  },
  {
   "cell_type": "code",
   "execution_count": 9,
   "id": "ce75de51",
   "metadata": {
    "scrolled": true
   },
   "outputs": [
    {
     "name": "stdout",
     "output_type": "stream",
     "text": [
      "Best: 0.792192 using {'subsample': 0.5, 'n_estimators': 1000, 'min_samples_split': 3, 'loss': 'log_loss', 'learning_rate': 0.1}\n",
      "mean: 0.527165 with std: (0.034473) with params: {'subsample': 0.5, 'n_estimators': 1000, 'min_samples_split': 7, 'loss': 'deviance', 'learning_rate': 10}\n",
      "mean: 0.703396 with std: (0.007961) with params: {'subsample': 0.75, 'n_estimators': 1000, 'min_samples_split': 5, 'loss': 'deviance', 'learning_rate': 1}\n",
      "mean: 0.664462 with std: (0.008408) with params: {'subsample': 0.5, 'n_estimators': 100, 'min_samples_split': 3, 'loss': 'log_loss', 'learning_rate': 1}\n",
      "mean: 0.731382 with std: (0.009388) with params: {'subsample': 1, 'n_estimators': 10, 'min_samples_split': 5, 'loss': 'deviance', 'learning_rate': 1}\n",
      "mean: 0.782285 with std: (0.010982) with params: {'subsample': 1, 'n_estimators': 100, 'min_samples_split': 7, 'loss': 'deviance', 'learning_rate': 0.1}\n",
      "mean: 0.792192 with std: (0.008547) with params: {'subsample': 0.5, 'n_estimators': 1000, 'min_samples_split': 3, 'loss': 'log_loss', 'learning_rate': 0.1}\n",
      "mean: 0.784000 with std: (0.012864) with params: {'subsample': 0.5, 'n_estimators': 100, 'min_samples_split': 7, 'loss': 'deviance', 'learning_rate': 0.1}\n",
      "mean: 0.700677 with std: (0.009624) with params: {'subsample': 0.75, 'n_estimators': 100, 'min_samples_split': 3, 'loss': 'log_loss', 'learning_rate': 1}\n",
      "mean: 0.729076 with std: (0.013383) with params: {'subsample': 1, 'n_estimators': 10, 'min_samples_split': 7, 'loss': 'deviance', 'learning_rate': 1}\n",
      "mean: 0.475887 with std: (0.036830) with params: {'subsample': 0.75, 'n_estimators': 1000, 'min_samples_split': 1, 'loss': 'log_loss', 'learning_rate': 10}\n"
     ]
    }
   ],
   "source": [
    "gradient_grid = {\n",
    "    'loss': ['log_loss', 'deviance', 'exponential'],\n",
    "    'learning_rate': [0.1, 0.01, 1, 10],\n",
    "    'n_estimators': [10,100,1000],\n",
    "    'subsample': [0.5,0.75,1],\n",
    "    'min_samples_split': [1,3,5,7]\n",
    "}\n",
    "\n",
    "gradient_model = GradientBoostingClassifier()\n",
    "grid_search = RandomizedSearchCV(estimator=gradient_model, param_distributions=gradient_grid, n_jobs=-1, \n",
    "                                 cv=cv, scoring='roc_auc', error_score=0)\n",
    "grid_result = grid_search.fit(X_train, y_train)\n",
    "\n",
    "# summarize results\n",
    "print(\"Best: %f using %s\" % (grid_result.best_score_, grid_result.best_params_))\n",
    "means = grid_result.cv_results_['mean_test_score']\n",
    "stds = grid_result.cv_results_['std_test_score']\n",
    "params = grid_result.cv_results_['params']\n",
    "for mean, stdev, param in zip(means, stds, params):\n",
    "    print(\"mean: %f with std: (%f) with params: %r\" % (mean, stdev, param))"
   ]
  },
  {
   "cell_type": "markdown",
   "id": "849d7e5c",
   "metadata": {},
   "source": [
    "Foi utilizada a curva ROC como métrica de performance."
   ]
  },
  {
   "cell_type": "markdown",
   "id": "4f8a72b7",
   "metadata": {},
   "source": [
    "## Avaliação do modelo no conjunto de teste:\n",
    "\n",
    "Sabendo a melhor combinação de hiperparâmetros nos cinco melhores modelos"
   ]
  },
  {
   "cell_type": "code",
   "execution_count": 10,
   "id": "a6e0eb34",
   "metadata": {},
   "outputs": [],
   "source": [
    "X_test = pd.read_csv(\"C:/Users/Protege Auto/Documents/X_test.csv\")\n",
    "y_test = np.ravel(pd.read_csv(\"C:/Users/Protege Auto/Documents/y_test.csv\"))\n",
    "\n",
    "logreg_params = {'penalty': 'l2', 'C': 1.0, 'solver': 'liblinear'}\n",
    "randfor_params = {'max_features': 'log2', 'n_estimators': 1000}\n",
    "svc_params = {'kernel': 'rbf', 'gamma': 'scale', 'C': 1.0}\n",
    "multinomialnb_params = {'alpha': 1}\n",
    "gbc_params = {'subsample': 0.5, 'n_estimators': 1000, 'min_samples_split': 3, 'loss': 'log_loss', 'learning_rate': 0.1}\n",
    "\n",
    "models = [\n",
    "    [\"log regression\", LogisticRegression, logreg_params],\n",
    "    [\"random forest\", RandomForestClassifier, randfor_params],\n",
    "    [\"support vector machines\", SVC, svc_params],\n",
    "    [\"multinomial naive bayes\", MultinomialNB, multinomialnb_params],\n",
    "    [\"gradient boosting classifier\", GradientBoostingClassifier, gbc_params]\n",
    "]\n",
    "\n",
    "insights = []\n",
    "for modelname, Model, params in models:\n",
    "    model = Model(**params)\n",
    "    model.fit(X_train, y_train)\n",
    "    y_pred = model.predict(X_test)\n",
    "    score = roc_auc_score(y_test, y_pred)\n",
    "    insights.append((modelname, model, params, score))"
   ]
  },
  {
   "cell_type": "code",
   "execution_count": 11,
   "id": "73204614",
   "metadata": {},
   "outputs": [
    {
     "name": "stdout",
     "output_type": "stream",
     "text": [
      "random forest {'max_features': 'log2', 'n_estimators': 1000} 0.7591166514254544\n",
      "support vector machines {'kernel': 'rbf', 'gamma': 'scale', 'C': 1.0} 0.7500521409892351\n",
      "multinomial naive bayes {'alpha': 1} 0.7373457829972245\n",
      "log regression {'penalty': 'l2', 'C': 1.0, 'solver': 'liblinear'} 0.7338001957292519\n",
      "gradient boosting classifier {'subsample': 0.5, 'n_estimators': 1000, 'min_samples_split': 3, 'loss': 'log_loss', 'learning_rate': 0.1} 0.7194493911536796\n"
     ]
    }
   ],
   "source": [
    "insights.sort(key=lambda x:x[-1], reverse=True)\n",
    "for modelname, model, params, score in insights:\n",
    "    print(modelname, params, score, end = \"\\n\")"
   ]
  },
  {
   "cell_type": "code",
   "execution_count": 12,
   "id": "42dc8305",
   "metadata": {},
   "outputs": [
    {
     "data": {
      "image/png": "[encoded data removed]",
      "text/plain": [
       "<Figure size 640x480 with 1 Axes>"
      ]
     },
     "metadata": {},
     "output_type": "display_data"
    }
   ],
   "source": [
    "best_model = RandomForestClassifier(max_features= 'log2', n_estimators= 1000).fit(X_train, y_train)\n",
    "RocCurveDisplay.from_estimator(best_model, X_test, y_test)\n",
    "plt.show()"
   ]
  },
  {
   "cell_type": "code",
   "execution_count": 13,
   "id": "15155345",
   "metadata": {},
   "outputs": [
    {
     "data": {
      "image/png": "[encoded data removed]",
      "text/plain": [
       "<Figure size 640x480 with 2 Axes>"
      ]
     },
     "metadata": {},
     "output_type": "display_data"
    }
   ],
   "source": [
    "ConfusionMatrixDisplay.from_estimator(best_model, X_test, y_test)\n",
    "plt.show()"
   ]
  },
  {
   "cell_type": "code",
   "execution_count": 14,
   "id": "4a9b4ab3",
   "metadata": {},
   "outputs": [
    {
     "name": "stdout",
     "output_type": "stream",
     "text": [
      "              precision    recall  f1-score   support\n",
      "\n",
      "       False       0.78      0.74      0.76       263\n",
      "        True       0.73      0.77      0.75       237\n",
      "\n",
      "    accuracy                           0.75       500\n",
      "   macro avg       0.75      0.75      0.75       500\n",
      "weighted avg       0.76      0.75      0.75       500\n",
      "\n"
     ]
    }
   ],
   "source": [
    "y_pred = best_model.predict(X_test)\n",
    "print(classification_report(y_test, y_pred))"
   ]
  }
 ],
 "metadata": {
  "colab": {
   "provenance": []
  },
  "kernelspec": {
   "display_name": "Python 3 (ipykernel)",
   "language": "python",
   "name": "python3"
  },
  "language_info": {
   "codemirror_mode": {
    "name": "ipython",
    "version": 3
   },
   "file_extension": ".py",
   "mimetype": "text/x-python",
   "name": "python",
   "nbconvert_exporter": "python",
   "pygments_lexer": "ipython3",
   "version": "3.10.9"
  }
 },
 "nbformat": 4,
 "nbformat_minor": 5
}
