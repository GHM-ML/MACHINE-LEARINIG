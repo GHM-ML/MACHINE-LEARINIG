{
 "cells": [
  {
   "cell_type": "markdown",
   "id": "60845406",
   "metadata": {
    "id": "60845406"
   },
   "source": [
    "## Importar ferramentas necessárias:"
   ]
  },
  {
   "cell_type": "code",
   "execution_count": null,
   "id": "932a6e6c",
   "metadata": {
    "id": "932a6e6c",
    "scrolled": true
   },
   "outputs": [],
   "source": [
    "import numpy as np\n",
    "import pandas as pd\n",
    "import tensorflow as tf\n",
    "import matplotlib.pyplot as plt\n",
    "from keras.layers import *\n",
    "from keras.losses import CategoricalCrossentropy\n",
    "from keras.models import Sequential\n",
    "from tensorflow.keras.optimizers import Adam\n",
    "from sklearn.metrics import classification_report\n",
    "from sklearn.metrics import confusion_matrix\n",
    "from sklearn.metrics import ConfusionMatrixDisplay"
   ]
  },
  {
   "cell_type": "markdown",
   "id": "e2d78a7d",
   "metadata": {
    "id": "e2d78a7d"
   },
   "source": [
    "#### Feito o upload da pasta de imagens no colab, descompactar no diretório."
   ]
  },
  {
   "cell_type": "code",
   "execution_count": null,
   "id": "3I4NDuh01TQ8",
   "metadata": {
    "id": "3I4NDuh01TQ8"
   },
   "outputs": [],
   "source": [
    "#unzip pasta de imagens\n",
    "!unzip /content/Tomato.zip"
   ]
  },
  {
   "cell_type": "markdown",
   "id": "475b9168",
   "metadata": {
    "id": "475b9168"
   },
   "source": [
    "### Carregar e preparar o dataset"
   ]
  },
  {
   "cell_type": "code",
   "execution_count": null,
   "id": "93785c32",
   "metadata": {
    "colab": {
     "base_uri": "https://localhost:8080/"
    },
    "id": "93785c32",
    "outputId": "aff237fd-893a-491f-e49f-8d3c4fd778eb",
    "scrolled": false
   },
   "outputs": [
    {
     "name": "stdout",
     "output_type": "stream",
     "text": [
      "Found 4263 files belonging to 8 classes.\n",
      "Using 2985 files for training.\n",
      "Found 4263 files belonging to 8 classes.\n",
      "Using 1278 files for validation.\n"
     ]
    }
   ],
   "source": [
    "#dataset criado com a pasta, separado para treino e validação(usando 30%)\n",
    "#classes representadas em one-hot encoding, definidas na ordem que aparecem na pasta\n",
    "train_ds = tf.keras.preprocessing.image_dataset_from_directory(\n",
    "    '/content/Tomato',\n",
    "    labels=\"inferred\",\n",
    "    label_mode=\"categorical\",\n",
    "    image_size=(299, 299),\n",
    "    validation_split=0.3,\n",
    "    subset=\"training\",\n",
    "    shuffle=True,\n",
    "    seed = 9)\n",
    "val_ds = tf.keras.preprocessing.image_dataset_from_directory(\n",
    "    '/content/Tomato',\n",
    "    labels=\"inferred\",\n",
    "    label_mode=\"categorical\",\n",
    "    image_size=(299,299),\n",
    "    validation_split=0.3,\n",
    "    subset=\"validation\",\n",
    "    shuffle = True,\n",
    "    seed = 9)"
   ]
  },
  {
   "cell_type": "markdown",
   "id": "e3e3ddfd",
   "metadata": {
    "id": "e3e3ddfd"
   },
   "source": [
    "## Considerações iniciais sobre o modelo:\n",
    "### 1. Camada de MaxPooling inserida após o esqueleto para reduzir o número de parâmetros. Pool_size e strides foram definidos com base na observação do desempenho do modelo e no tempo de treinamento.\n",
    "### 2. O mesmo vale para a inserção da camada Densa (e o número de neurônios) entre a de pooling e a de saída.\n",
    "### 3. Em consonância à representação (one-hot encoding) das classes das imagens e sua natureza qualitativa, a função de perda foi escolhida.\n",
    "### 4. Otimizador Adam: Uma versão do algoritmo de gradiente descendene estocástico, Adam vem de ADAptive Moment estimation, usa gradientes passados para calcular os atuais.\n",
    "### 4. Treinar algumas das últimas camadas da resnet transferida ajuda a convergir mais rápido e atingir resultados um pouco melhores, pois elas são responsáveis por filtrar os padrões menos abstratos."
   ]
  },
  {
   "cell_type": "code",
   "execution_count": null,
   "id": "ba217d14",
   "metadata": {
    "colab": {
     "base_uri": "https://localhost:8080/"
    },
    "id": "ba217d14",
    "outputId": "331955d3-17b4-4d06-85a7-7b5e8a4b57b5",
    "scrolled": false
   },
   "outputs": [
    {
     "name": "stdout",
     "output_type": "stream",
     "text": [
      "Model: \"sequential_5\"\n",
      "_________________________________________________________________\n",
      " Layer (type)                Output Shape              Param #   \n",
      "=================================================================\n",
      " resnet50 (Functional)       (None, 10, 10, 2048)      23587712  \n",
      "                                                                 \n",
      " max_pooling2d_5 (MaxPooling  (None, 3, 3, 2048)       0         \n",
      " 2D)                                                             \n",
      "                                                                 \n",
      " flatten_5 (Flatten)         (None, 18432)             0         \n",
      "                                                                 \n",
      " dense_10 (Dense)            (None, 120)               2211960   \n",
      "                                                                 \n",
      " dense_11 (Dense)            (None, 8)                 968       \n",
      "                                                                 \n",
      "=================================================================\n",
      "Total params: 25,800,640\n",
      "Trainable params: 5,628,480\n",
      "Non-trainable params: 20,172,160\n",
      "_________________________________________________________________\n",
      "Epoch 1/20\n",
      "94/94 [==============================] - 57s 567ms/step - loss: 5.8529 - Accuracy: 0.6499 - val_loss: 0.6925 - val_Accuracy: 0.7559\n",
      "Epoch 2/20\n",
      "94/94 [==============================] - 53s 557ms/step - loss: 0.1546 - Accuracy: 0.9447 - val_loss: 0.2534 - val_Accuracy: 0.9210\n",
      "Epoch 3/20\n",
      "94/94 [==============================] - 53s 559ms/step - loss: 0.0831 - Accuracy: 0.9765 - val_loss: 0.3556 - val_Accuracy: 0.9069\n",
      "Epoch 4/20\n",
      "94/94 [==============================] - 52s 556ms/step - loss: 0.0194 - Accuracy: 0.9960 - val_loss: 0.2548 - val_Accuracy: 0.9319\n",
      "Epoch 5/20\n",
      "94/94 [==============================] - 53s 556ms/step - loss: 0.0091 - Accuracy: 0.9970 - val_loss: 0.2748 - val_Accuracy: 0.9264\n",
      "Epoch 6/20\n",
      "94/94 [==============================] - 52s 556ms/step - loss: 0.0018 - Accuracy: 1.0000 - val_loss: 0.2278 - val_Accuracy: 0.9429\n",
      "Epoch 7/20\n",
      "94/94 [==============================] - 53s 557ms/step - loss: 8.7129e-04 - Accuracy: 1.0000 - val_loss: 0.2270 - val_Accuracy: 0.9444\n",
      "Epoch 8/20\n",
      "94/94 [==============================] - 52s 556ms/step - loss: 6.2270e-04 - Accuracy: 1.0000 - val_loss: 0.2296 - val_Accuracy: 0.9421\n",
      "Epoch 9/20\n",
      "94/94 [==============================] - 52s 557ms/step - loss: 5.2077e-04 - Accuracy: 1.0000 - val_loss: 0.2266 - val_Accuracy: 0.9468\n",
      "Epoch 10/20\n",
      "94/94 [==============================] - 53s 567ms/step - loss: 4.1453e-04 - Accuracy: 1.0000 - val_loss: 0.2262 - val_Accuracy: 0.9468\n",
      "Epoch 11/20\n",
      "94/94 [==============================] - 53s 561ms/step - loss: 3.3790e-04 - Accuracy: 1.0000 - val_loss: 0.2249 - val_Accuracy: 0.9476\n",
      "Epoch 12/20\n",
      "94/94 [==============================] - 53s 558ms/step - loss: 2.7734e-04 - Accuracy: 1.0000 - val_loss: 0.2242 - val_Accuracy: 0.9468\n",
      "Epoch 13/20\n",
      "94/94 [==============================] - 53s 565ms/step - loss: 2.5961e-04 - Accuracy: 1.0000 - val_loss: 0.2221 - val_Accuracy: 0.9476\n",
      "Epoch 14/20\n",
      "94/94 [==============================] - 53s 562ms/step - loss: 2.1331e-04 - Accuracy: 1.0000 - val_loss: 0.2227 - val_Accuracy: 0.9484\n",
      "Epoch 15/20\n",
      "94/94 [==============================] - 53s 565ms/step - loss: 1.9157e-04 - Accuracy: 1.0000 - val_loss: 0.2240 - val_Accuracy: 0.9507\n",
      "Epoch 16/20\n",
      "94/94 [==============================] - 53s 558ms/step - loss: 1.6828e-04 - Accuracy: 1.0000 - val_loss: 0.2232 - val_Accuracy: 0.9507\n",
      "Epoch 17/20\n",
      "94/94 [==============================] - 53s 566ms/step - loss: 1.4761e-04 - Accuracy: 1.0000 - val_loss: 0.2230 - val_Accuracy: 0.9484\n",
      "Epoch 18/20\n",
      "94/94 [==============================] - 53s 561ms/step - loss: 1.5394e-04 - Accuracy: 1.0000 - val_loss: 0.2193 - val_Accuracy: 0.9468\n",
      "Epoch 19/20\n",
      "94/94 [==============================] - 52s 556ms/step - loss: 1.2603e-04 - Accuracy: 1.0000 - val_loss: 0.2226 - val_Accuracy: 0.9484\n",
      "Epoch 20/20\n",
      "94/94 [==============================] - 53s 560ms/step - loss: 1.1478e-04 - Accuracy: 1.0000 - val_loss: 0.2207 - val_Accuracy: 0.9476\n"
     ]
    }
   ],
   "source": [
    "backbone = tf.keras.applications.ResNet50(\n",
    "        weights='imagenet',\n",
    "        include_top=False,\n",
    "        input_shape=(299, 299,3))\n",
    "\n",
    "#garantir que algumas camadas da resnet possam ser treinadas, exceto todas as outras\n",
    "for i in range (len(backbone.layers)-7):\n",
    "    backbone.layers[i].trainable = False\n",
    "    \n",
    "resnet_model = Sequential([backbone, MaxPooling2D(\n",
    "    pool_size=(4,4), strides=3, padding=\"valid\"), Flatten(),\n",
    "                           Dense(120, activation = 'relu'),\n",
    "                           Dense(8, activation = 'softmax')])\n",
    "\n",
    "resnet_model.summary()\n",
    "\n",
    "resnet_model.compile(optimizer = Adam(learning_rate = 1e-3), loss = 'categorical_crossentropy',  metrics = ['Accuracy'])\n",
    "history = resnet_model.fit(\n",
    "    x=train_ds,\n",
    "    validation_data = val_ds,\n",
    "    batch_size=32,\n",
    "    epochs=20,\n",
    "    shuffle=True)"
   ]
  },
  {
   "cell_type": "code",
   "execution_count": null,
   "id": "e4784362",
   "metadata": {
    "colab": {
     "base_uri": "https://localhost:8080/",
     "height": 621
    },
    "id": "e4784362",
    "outputId": "ec772345-f38a-40a5-a0ac-410b22cea57d",
    "scrolled": false
   },
   "outputs": [
    {
     "data": {
      "image/png": "[encoded data removed]",
      "text/plain": [
       "<Figure size 720x720 with 2 Axes>"
      ]
     },
     "metadata": {
      "needs_background": "light"
     },
     "output_type": "display_data"
    }
   ],
   "source": [
    "fig, axs = plt.subplots(2,figsize=(10,10))\n",
    "\n",
    "axs[0].plot(history.history['Accuracy'])\n",
    "axs[0].plot(history.history['val_Accuracy'])\n",
    "axs[0].set_title('model accuracy')\n",
    "axs[0].legend(['train', 'validation'])\n",
    "\n",
    "\n",
    "axs[1].plot(history.history['loss'])\n",
    "axs[1].plot(history.history['val_loss'])\n",
    "axs[1].set_title('model loss')\n",
    "axs[1].legend(['train', 'validation'])\n",
    "for ax in axs.flat:\n",
    "    ax.set_ylim([0, 1.1])\n",
    "    ax.set(xlabel='epochs', ylabel='model')"
   ]
  },
  {
   "cell_type": "markdown",
   "id": "068499fd",
   "metadata": {
    "id": "068499fd"
   },
   "source": [
    "#### Após 20 epochs, aparentemente a função de perda convergiu para um valor de mínimo local e o modelo performou bem, apesar de ter \"decorado\" o dataset de treino"
   ]
  },
  {
   "cell_type": "markdown",
   "id": "d9a3e8a0",
   "metadata": {
    "id": "d9a3e8a0",
    "outputId": "7dec7d45-4031-446e-934c-c1aac742cdba"
   },
   "source": [
    "### A imagem abaixo mostra como é a definição dos resultados em uma matriz de confusão com mais de duas classes.\n",
    "![alt text](Result%20types.png \"Title\")"
   ]
  },
  {
   "cell_type": "code",
   "execution_count": null,
   "id": "WLzFLf1jTGe0",
   "metadata": {
    "colab": {
     "base_uri": "https://localhost:8080/",
     "height": 738
    },
    "id": "WLzFLf1jTGe0",
    "outputId": "edcd7dd9-a662-40c5-a9b2-6f1bc9a1cb4c",
    "scrolled": false
   },
   "outputs": [
    {
     "data": {
      "text/html": [
       "\n",
       "  <div id=\"df-924010d3-08bb-426f-a9b7-22096673f5a1\">\n",
       "    <div class=\"colab-df-container\">\n",
       "      <div>\n",
       "<style scoped>\n",
       "    .dataframe tbody tr th:only-of-type {\n",
       "        vertical-align: middle;\n",
       "    }\n",
       "\n",
       "    .dataframe tbody tr th {\n",
       "        vertical-align: top;\n",
       "    }\n",
       "\n",
       "    .dataframe thead th {\n",
       "        text-align: right;\n",
       "    }\n",
       "</style>\n",
       "<table border=\"1\" class=\"dataframe\">\n",
       "  <thead>\n",
       "    <tr style=\"text-align: right;\">\n",
       "      <th></th>\n",
       "      <th>BA</th>\n",
       "      <th>HA</th>\n",
       "      <th>MP</th>\n",
       "      <th>SE</th>\n",
       "      <th>SL</th>\n",
       "      <th>TP</th>\n",
       "      <th>TU</th>\n",
       "      <th>ZC</th>\n",
       "    </tr>\n",
       "  </thead>\n",
       "  <tbody>\n",
       "    <tr>\n",
       "      <th>precision</th>\n",
       "      <td>0.983871</td>\n",
       "      <td>0.937799</td>\n",
       "      <td>0.961806</td>\n",
       "      <td>0.849057</td>\n",
       "      <td>0.947368</td>\n",
       "      <td>0.948718</td>\n",
       "      <td>0.976879</td>\n",
       "      <td>1.000000</td>\n",
       "    </tr>\n",
       "    <tr>\n",
       "      <th>recall</th>\n",
       "      <td>0.945736</td>\n",
       "      <td>0.946860</td>\n",
       "      <td>0.982270</td>\n",
       "      <td>0.882353</td>\n",
       "      <td>0.920930</td>\n",
       "      <td>0.902439</td>\n",
       "      <td>0.982558</td>\n",
       "      <td>0.974684</td>\n",
       "    </tr>\n",
       "    <tr>\n",
       "      <th>f1-score</th>\n",
       "      <td>0.964427</td>\n",
       "      <td>0.942308</td>\n",
       "      <td>0.971930</td>\n",
       "      <td>0.865385</td>\n",
       "      <td>0.933962</td>\n",
       "      <td>0.925000</td>\n",
       "      <td>0.979710</td>\n",
       "      <td>0.987179</td>\n",
       "    </tr>\n",
       "    <tr>\n",
       "      <th>class-accuracy</th>\n",
       "      <td>0.992958</td>\n",
       "      <td>0.981221</td>\n",
       "      <td>0.987480</td>\n",
       "      <td>0.967136</td>\n",
       "      <td>0.978091</td>\n",
       "      <td>0.995305</td>\n",
       "      <td>0.994523</td>\n",
       "      <td>0.998435</td>\n",
       "    </tr>\n",
       "  </tbody>\n",
       "</table>\n",
       "</div>\n",
       "      <button class=\"colab-df-convert\" onclick=\"convertToInteractive('df-924010d3-08bb-426f-a9b7-22096673f5a1')\"\n",
       "              title=\"Convert this dataframe to an interactive table.\"\n",
       "              style=\"display:none;\">\n",
       "        \n",
       "  <svg xmlns=\"http://www.w3.org/2000/svg\" height=\"24px\"viewBox=\"0 0 24 24\"\n",
       "       width=\"24px\">\n",
       "    <path d=\"M0 0h24v24H0V0z\" fill=\"none\"/>\n",
       "    <path d=\"M18.56 5.44l.94 2.06.94-2.06 2.06-.94-2.06-.94-.94-2.06-.94 2.06-2.06.94zm-11 1L8.5 8.5l.94-2.06 2.06-.94-2.06-.94L8.5 2.5l-.94 2.06-2.06.94zm10 10l.94 2.06.94-2.06 2.06-.94-2.06-.94-.94-2.06-.94 2.06-2.06.94z\"/><path d=\"M17.41 7.96l-1.37-1.37c-.4-.4-.92-.59-1.43-.59-.52 0-1.04.2-1.43.59L10.3 9.45l-7.72 7.72c-.78.78-.78 2.05 0 2.83L4 21.41c.39.39.9.59 1.41.59.51 0 1.02-.2 1.41-.59l7.78-7.78 2.81-2.81c.8-.78.8-2.07 0-2.86zM5.41 20L4 18.59l7.72-7.72 1.47 1.35L5.41 20z\"/>\n",
       "  </svg>\n",
       "      </button>\n",
       "      \n",
       "  <style>\n",
       "    .colab-df-container {\n",
       "      display:flex;\n",
       "      flex-wrap:wrap;\n",
       "      gap: 12px;\n",
       "    }\n",
       "\n",
       "    .colab-df-convert {\n",
       "      background-color: #E8F0FE;\n",
       "      border: none;\n",
       "      border-radius: 50%;\n",
       "      cursor: pointer;\n",
       "      display: none;\n",
       "      fill: #1967D2;\n",
       "      height: 32px;\n",
       "      padding: 0 0 0 0;\n",
       "      width: 32px;\n",
       "    }\n",
       "\n",
       "    .colab-df-convert:hover {\n",
       "      background-color: #E2EBFA;\n",
       "      box-shadow: 0px 1px 2px rgba(60, 64, 67, 0.3), 0px 1px 3px 1px rgba(60, 64, 67, 0.15);\n",
       "      fill: #174EA6;\n",
       "    }\n",
       "\n",
       "    [theme=dark] .colab-df-convert {\n",
       "      background-color: #3B4455;\n",
       "      fill: #D2E3FC;\n",
       "    }\n",
       "\n",
       "    [theme=dark] .colab-df-convert:hover {\n",
       "      background-color: #434B5C;\n",
       "      box-shadow: 0px 1px 3px 1px rgba(0, 0, 0, 0.15);\n",
       "      filter: drop-shadow(0px 1px 2px rgba(0, 0, 0, 0.3));\n",
       "      fill: #FFFFFF;\n",
       "    }\n",
       "  </style>\n",
       "\n",
       "      <script>\n",
       "        const buttonEl =\n",
       "          document.querySelector('#df-924010d3-08bb-426f-a9b7-22096673f5a1 button.colab-df-convert');\n",
       "        buttonEl.style.display =\n",
       "          google.colab.kernel.accessAllowed ? 'block' : 'none';\n",
       "\n",
       "        async function convertToInteractive(key) {\n",
       "          const element = document.querySelector('#df-924010d3-08bb-426f-a9b7-22096673f5a1');\n",
       "          const dataTable =\n",
       "            await google.colab.kernel.invokeFunction('convertToInteractive',\n",
       "                                                     [key], {});\n",
       "          if (!dataTable) return;\n",
       "\n",
       "          const docLinkHtml = 'Like what you see? Visit the ' +\n",
       "            '<a target=\"_blank\" href=https://colab.research.google.com/notebooks/data_table.ipynb>data table notebook</a>'\n",
       "            + ' to learn more about interactive tables.';\n",
       "          element.innerHTML = '';\n",
       "          dataTable['output_type'] = 'display_data';\n",
       "          await google.colab.output.renderOutput(dataTable, element);\n",
       "          const docLink = document.createElement('div');\n",
       "          docLink.innerHTML = docLinkHtml;\n",
       "          element.appendChild(docLink);\n",
       "        }\n",
       "      </script>\n",
       "    </div>\n",
       "  </div>\n",
       "  "
      ],
      "text/plain": [
       "                      BA        HA        MP        SE        SL        TP  \\\n",
       "precision       0.983871  0.937799  0.961806  0.849057  0.947368  0.948718   \n",
       "recall          0.945736  0.946860  0.982270  0.882353  0.920930  0.902439   \n",
       "f1-score        0.964427  0.942308  0.971930  0.865385  0.933962  0.925000   \n",
       "class-accuracy  0.992958  0.981221  0.987480  0.967136  0.978091  0.995305   \n",
       "\n",
       "                      TU        ZC  \n",
       "precision       0.976879  1.000000  \n",
       "recall          0.982558  0.974684  \n",
       "f1-score        0.979710  0.987179  \n",
       "class-accuracy  0.994523  0.998435  "
      ]
     },
     "execution_count": 19,
     "metadata": {},
     "output_type": "execute_result"
    },
    {
     "data": {
      "image/png": "[encoded data removed]",
      "text/plain": [
       "<Figure size 720x720 with 2 Axes>"
      ]
     },
     "metadata": {
      "needs_background": "light"
     },
     "output_type": "display_data"
    }
   ],
   "source": [
    "pred = [] #para armazenar as predições\n",
    "true = [] #resultados reais\n",
    "new_labels = ['BA', 'HA', 'MP', 'SE', 'SL', 'TP', 'TU', 'ZC']\n",
    "\n",
    "for image_batch, label_batch in val_ds: #iterar sobre cada lote do dataset, que contém as imagens e suas classes.\n",
    "    true.append(label_batch)\n",
    "    preds = resnet_model.predict(image_batch)\n",
    "    pred.append(np.argmax(preds, axis = - 1))\n",
    "\n",
    "correct_labels = tf.concat([item for item in true], axis = 0)\n",
    "predicted_labels = tf.concat([item for item in pred], axis = 0)\n",
    "\n",
    "a = np.array(correct_labels)\n",
    "y_true = np.where(a==1)[1]#decodificar respostas\n",
    "y_pred = np.array(predicted_labels)\n",
    "\n",
    "cm = confusion_matrix(y_true, y_pred)\n",
    "cmp = ConfusionMatrixDisplay(cm, display_labels=new_labels)\n",
    "fig, ax = plt.subplots(figsize=(10,10))\n",
    "cmp.plot(ax=ax)\n",
    "\n",
    "#Calcular resultados falsos positivos, falsos negativos, verdadeiros negativos e verdadeiros positivos\n",
    "#adaptados aos problemas de multiclasses\n",
    "FP = cm.sum(axis=0) - np.diag(cm)  \n",
    "FN = cm.sum(axis=1) - np.diag(cm)\n",
    "TP = np.diag(cm)\n",
    "TN = cm.sum() - (FP + FN + TP)\n",
    "ACC = (TP+TN)/(TP+FP+FN+TN)\n",
    "\n",
    "#dataframe com métricas relevantes\n",
    "metrics = pd.DataFrame.from_dict(classification_report(y_true, y_pred, output_dict = True))\n",
    "metrics.drop(labels = ['accuracy', 'macro avg','weighted avg'], axis = 1, inplace = True)\n",
    "metrics.drop(labels = ['support'], axis = 0, inplace = True)\n",
    "metrics.loc[len(metrics)] = ACC\n",
    "metrics.rename(index={3:'class-accuracy'}, inplace = True)\n",
    "metrics.columns = new_labels\n",
    "metrics"
   ]
  },
  {
   "cell_type": "markdown",
   "id": "42cfe48e",
   "metadata": {
    "id": "42cfe48e"
   },
   "source": [
    "### Considerações finais:\n",
    "\n",
    "#### Verifica-se menor recall e f1-score na categoria SE\n",
    "#### O modelo foi criado para fins de aprendizado"
   ]
  }
 ],
 "metadata": {
  "accelerator": "GPU",
  "colab": {
   "collapsed_sections": [],
   "name": "Tomato Plague Classification-Final.ipynb",
   "provenance": []
  },
  "kernelspec": {
   "display_name": "Python 3 (ipykernel)",
   "language": "python",
   "name": "python3"
  },
  "language_info": {
   "codemirror_mode": {
    "name": "ipython",
    "version": 3
   },
   "file_extension": ".py",
   "mimetype": "text/x-python",
   "name": "python",
   "nbconvert_exporter": "python",
   "pygments_lexer": "ipython3",
   "version": "3.9.12"
  }
 },
 "nbformat": 4,
 "nbformat_minor": 5
}
